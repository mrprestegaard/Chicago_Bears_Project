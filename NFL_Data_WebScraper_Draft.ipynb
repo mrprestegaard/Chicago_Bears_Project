{
 "cells": [
  {
   "attachments": {},
   "cell_type": "markdown",
   "metadata": {},
   "source": [
    "# Web Scraping Project"
   ]
  },
  {
   "attachments": {},
   "cell_type": "markdown",
   "metadata": {},
   "source": [
    "### https://www.pro-football-reference.com.robots.txt "
   ]
  },
  {
   "cell_type": "code",
   "execution_count": 21,
   "metadata": {},
   "outputs": [],
   "source": [
    "#pip install lxml\n",
    "#pip install html5lib\n",
    "#pip install html5lib\n",
    "#pip install ipywidgets\n",
    "import seaborn as sns\n",
    "import matplotlib.pyplot as plt\n",
    "#pip install requests beautifulsoup4 selenium\n",
    "import requests\n",
    "from bs4 import BeautifulSoup\n",
    "import pandas as pd\n",
    "import ipywidgets as widgets\n",
    "from IPython.display import display"
   ]
  },
  {
   "attachments": {},
   "cell_type": "markdown",
   "metadata": {},
   "source": [
    "## Assign URLS to all NFL Teams using Dictionaries (key value pairs)"
   ]
  },
  {
   "cell_type": "code",
   "execution_count": 7,
   "metadata": {},
   "outputs": [],
   "source": [
    "nfl_teams = {\n",
    "    'Arizona Cardinals': 'https://www.pro-football-reference.com/teams/crd/2023.htm',\n",
    "    'Atlanta Falcons': 'https://www.pro-football-reference.com/teams/atl/2023.htm',\n",
    "    'Baltimore Ravens': 'https://www.pro-football-reference.com/teams/rav/2023.htm',\n",
    "    'Buffalo Bills': 'https://www.pro-football-reference.com/teams/buf/2023.htm',\n",
    "    'Carolina Panthers': 'https://www.pro-football-reference.com/teams/car/2023.htm',\n",
    "    'Chicago Bears': 'https://www.pro-football-reference.com/teams/chi/2023.htm',\n",
    "    'Cincinnati Bengals': 'https://www.pro-football-reference.com/teams/cin/2023.htm',\n",
    "    'Cleveland Browns': 'https://www.pro-football-reference.com/teams/cle/2023.htm',\n",
    "    'Dallas Cowboys': 'https://www.pro-football-reference.com/teams/dal/2023.htm',\n",
    "    'Denver Broncos': 'https://www.pro-football-reference.com/teams/den/2023.htm',\n",
    "    'Detroit Lions': 'https://www.pro-football-reference.com/teams/det/2023.htm',\n",
    "    'Green Bay Packers': 'https://www.pro-football-reference.com/teams/gnb/2023.htm',\n",
    "    'Houston Texans': 'https://www.pro-football-reference.com/teams/htx/2023.htm',\n",
    "    'Indianapolis Colts': 'https://www.pro-football-reference.com/teams/clt/2023.htm',\n",
    "    'Jacksonville Jaguars': 'https://www.pro-football-reference.com/teams/jax/2023.htm',\n",
    "    'Kansas City Chiefs': 'https://www.pro-football-reference.com/teams/kan/2023.htm',\n",
    "    'Las Vegas Raiders': 'https://www.pro-football-reference.com/teams/rai/2023.htm',\n",
    "    'Los Angeles Chargers': 'https://www.pro-football-reference.com/teams/sdg/2023.htm',\n",
    "    'Los Angeles Rams': 'https://www.pro-football-reference.com/teams/ram/2023.htm',\n",
    "    'Miami Dolphins': 'https://www.pro-football-reference.com/teams/mia/2023.htm',\n",
    "    'Minnesota Vikings': 'https://www.pro-football-reference.com/teams/min/2023.htm',\n",
    "    'New England Patriots': 'https://www.pro-football-reference.com/teams/nwe/2023.htm',\n",
    "    'New Orleans Saints': 'https://www.pro-football-reference.com/teams/nor/2023.htm',\n",
    "    'New York Giants': 'https://www.pro-football-reference.com/teams/nyg/2023.htm',\n",
    "    'New York Jets': 'https://www.pro-football-reference.com/teams/nyj/2023.htm',\n",
    "    'Philadelphia Eagles': 'https://www.pro-football-reference.com/teams/phi/2023.htm',\n",
    "    'Pittsburgh Steelers': 'https://www.pro-football-reference.com/teams/pit/2023.htm',\n",
    "    'San Francisco 49ers': 'https://www.pro-football-reference.com/teams/sfo/2023.htm',\n",
    "    'Seattle Seahawks': 'https://www.pro-football-reference.com/teams/sea/2023.htm',\n",
    "    'Tampa Bay Buccaneers': 'https://www.pro-football-reference.com/teams/tam/2023.htm',\n",
    "    'Tennessee Titans': 'https://www.pro-football-reference.com/teams/oti/2023.htm',\n",
    "    'Washington Commanders': 'https://www.pro-football-reference.com/teams/was/2023.htm'\n",
    "}\n",
    " \n"
   ]
  },
  {
   "cell_type": "code",
   "execution_count": 24,
   "metadata": {},
   "outputs": [
    {
     "data": {
      "application/vnd.jupyter.widget-view+json": {
       "model_id": "d9f258a1f65644edad0303041d92c135",
       "version_major": 2,
       "version_minor": 0
      },
      "text/plain": [
       "Dropdown(description='Select Team:', options=('Arizona Cardinals', 'Atlanta Falcons', 'Baltimore Ravens', 'Buf…"
      ]
     },
     "metadata": {},
     "output_type": "display_data"
    }
   ],
   "source": [
    "# URL of the webpage you want to scrape\n",
    "#team_url = nfl_teams [1]\n",
    "\n",
    "#Global variable to store Data Frame: \n",
    "global selected_team_df\n",
    "selected_team_df = None\n",
    "\n",
    "\n",
    "# Dropdown widget for selecting a team\n",
    "dropdown = widgets.Dropdown(\n",
    "    options=nfl_teams.keys(),\n",
    "    description='Select Team:',\n",
    ")\n",
    "\n",
    "# Function to fetch data from the selected team's URL\n",
    "def fetch_data(team_url):\n",
    "    response = requests.get(team_url)\n",
    "    if response.status_code == 200:\n",
    "        soup = BeautifulSoup(response.content, 'html.parser')\n",
    "        table = soup.find('table', id='games')\n",
    "        df = pd.read_html(str(table))[0]\n",
    "        return df\n",
    "    else:\n",
    "        print(f\"Failed to retrieve the webpage: Status code {response.status_code}\")\n",
    "        return None\n",
    "\n",
    "# Event handler for dropdown selection change\n",
    "def on_team_selected(change):\n",
    "    global selected_team_df  # Declare the use of the global variable\n",
    "    team_url = nfl_teams[change.new]\n",
    "    df = fetch_data(team_url)\n",
    "    if df is not None:\n",
    "        display(df)\n",
    "        selected_team_df = df  # Update the global variable\n",
    "\n",
    "# Observe the dropdown for changes\n",
    "dropdown.observe(on_team_selected, names='value')\n",
    "\n",
    "# Display the dropdown\n",
    "display(dropdown)"
   ]
  },
  {
   "cell_type": "code",
   "execution_count": 25,
   "metadata": {},
   "outputs": [
    {
     "name": "stdout",
     "output_type": "stream",
     "text": [
      "NO Team has been selected\n"
     ]
    }
   ],
   "source": [
    "if selected_team_df is not None:\n",
    "    #Begin analysis \n",
    "    print(\"Team has been selected\")\n",
    "else:\n",
    "    print(\"NO Team has been selected\")"
   ]
  },
  {
   "attachments": {},
   "cell_type": "markdown",
   "metadata": {},
   "source": [
    "### Next Steps:\n",
    "For the next steps, I 'm thinking that I will clean up the selected_team_df so that there the 'double columns' are merged into one (much like the Chi Bears ANalysis I have been doing). "
   ]
  },
  {
   "cell_type": "code",
   "execution_count": 26,
   "metadata": {},
   "outputs": [
    {
     "ename": "AttributeError",
     "evalue": "'NoneType' object has no attribute 'columns'",
     "output_type": "error",
     "traceback": [
      "\u001b[0;31m---------------------------------------------------------------------------\u001b[0m",
      "\u001b[0;31mAttributeError\u001b[0m                            Traceback (most recent call last)",
      "Cell \u001b[0;32mIn[26], line 1\u001b[0m\n\u001b[0;32m----> 1\u001b[0m \u001b[39mprint\u001b[39m(selected_team_df\u001b[39m.\u001b[39;49mcolumns)\n",
      "\u001b[0;31mAttributeError\u001b[0m: 'NoneType' object has no attribute 'columns'"
     ]
    }
   ],
   "source": [
    "print(selected_team_df.columns)"
   ]
  },
  {
   "cell_type": "code",
   "execution_count": null,
   "metadata": {},
   "outputs": [],
   "source": []
  }
 ],
 "metadata": {
  "kernelspec": {
   "display_name": "Python 3",
   "language": "python",
   "name": "python3"
  },
  "language_info": {
   "codemirror_mode": {
    "name": "ipython",
    "version": 3
   },
   "file_extension": ".py",
   "mimetype": "text/x-python",
   "name": "python",
   "nbconvert_exporter": "python",
   "pygments_lexer": "ipython3",
   "version": "3.11.3"
  },
  "orig_nbformat": 4
 },
 "nbformat": 4,
 "nbformat_minor": 2
}
